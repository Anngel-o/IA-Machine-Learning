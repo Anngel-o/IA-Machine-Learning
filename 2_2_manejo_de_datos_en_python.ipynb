{
  "nbformat": 4,
  "nbformat_minor": 0,
  "metadata": {
    "colab": {
      "provenance": [],
      "authorship_tag": "ABX9TyP540cSQIO9F69bWIl/nzs8",
      "include_colab_link": true
    },
    "kernelspec": {
      "name": "python3",
      "display_name": "Python 3"
    },
    "language_info": {
      "name": "python"
    }
  },
  "cells": [
    {
      "cell_type": "markdown",
      "metadata": {
        "id": "view-in-github",
        "colab_type": "text"
      },
      "source": [
        "<a href=\"https://colab.research.google.com/github/Anngel-o/IA-Machine-Learning/blob/main/2_2_manejo_de_datos_en_python.ipynb\" target=\"_parent\"><img src=\"https://colab.research.google.com/assets/colab-badge.svg\" alt=\"Open In Colab\"/></a>"
      ]
    },
    {
      "cell_type": "markdown",
      "source": [
        "Manejo de datos en python\n",
        "Manejo de datos en python\n",
        "\n",
        "A continuación, se dan una serie de ejemplos para poder realizar las operaciones aprendidas en las lecciones anteriores. Para una mejor visualización, usa tu IDE preferido o bien ingresa en un nuevo notebook de google colab:\n",
        "Normalización:\n",
        "_________________________________________________\n",
        "from sklearn.preprocessing import MinMaxScaler\n",
        "\n",
        "# Normalización\n",
        "scaler = MinMaxScaler()\n",
        "data_normalizada = scaler.fit_transform(data)\n",
        "print(\"Datos normalizados:\\n\", data_normalizada)\n",
        "_________________________________________________\n",
        "Estandarización:\n",
        "\n",
        "_________________________________________________\n",
        "import numpy as np\n",
        "from sklearn.preprocessing import StandardScaler\n",
        "\n",
        "# Datos numéricos\n",
        "data = np.array([[1, 2, 3], [4, 5, 6], [7, 8, 9]])\n",
        "\n",
        "# Estandarización\n",
        "scaler = StandardScaler()\n",
        "data_estandarizada = scaler.fit_transform(data)\n",
        "print(\"Datos estandarizados:\\n\", data_estandarizada)\n",
        "_________________________________________________\n",
        "Filtrado de valores extremos:\n",
        "\n",
        "_________________________________________________\n",
        "import numpy as np\n",
        "import pandas as pd\n",
        "\n",
        "# Datos numéricos con valores extremos\n",
        "data = pd.DataFrame({\n",
        "    'A': [1, 2, 3, 4, 100],\n",
        "    'B': [2, 3, 4, 5, 200],\n",
        "    'C': [3, 4, 5, 6, 300]\n",
        "})\n",
        "\n",
        "# Detección de valores extremos usando el rango intercuartil (IQR)\n",
        "Q1 = data.quantile(0.25)\n",
        "Q3 = data.quantile(0.75)\n",
        "IQR = Q3 - Q1\n",
        "\n",
        "# Filtrado de valores extremos\n",
        "data_sin_extremos = data[~((data < (Q1 - 1.5 * IQR)) | (data > (Q3 + 1.5 * IQR))).any(axis=1)]\n",
        "print(\"Datos sin valores extremos:\\n\", data_sin_extremos)"
      ],
      "metadata": {
        "id": "mQUahh9QlB_c"
      }
    }
  ]
}