{
  "nbformat": 4,
  "nbformat_minor": 0,
  "metadata": {
    "colab": {
      "provenance": [],
      "authorship_tag": "ABX9TyMLhdjBB0s7p6hk/jNnhM9Y",
      "include_colab_link": true
    },
    "kernelspec": {
      "name": "python3",
      "display_name": "Python 3"
    },
    "language_info": {
      "name": "python"
    }
  },
  "cells": [
    {
      "cell_type": "markdown",
      "metadata": {
        "id": "view-in-github",
        "colab_type": "text"
      },
      "source": [
        "<a href=\"https://colab.research.google.com/github/Anngel-o/IA-Machine-Learning/blob/main/2_1_detecci%C3%B3n_y_manejo_de_valores_extremos.ipynb\" target=\"_parent\"><img src=\"https://colab.research.google.com/assets/colab-badge.svg\" alt=\"Open In Colab\"/></a>"
      ]
    },
    {
      "cell_type": "markdown",
      "source": [
        "Detección y manejo de valores extremos\n",
        "Detección y manejo de valores extremos\n",
        "\n",
        "La detección y manejo de valores extremos (también conocidos como outliers) es un paso crítico en el preprocesamiento de datos. Los valores extremos pueden influir negativamente en el rendimiento del modelo, por lo que identificarlos y manejarlos adecuadamente es fundamental para mejorar la calidad y precisión del modelo. A continuación, se presenta el cómo poder detectar los valores extremos, su manejo y un par de consideraciones a tener en cuenta:\n",
        "Detección de Valores Extremos\n",
        "\n",
        "Tenemos tanto métodos estadísticos como basados en modelos y en distancia:\n",
        "\n",
        "    Métodos Estadísticos:\n",
        "        Rango Intercuartílico (IQR): Se utiliza para detectar valores extremos en datos que no necesariamente siguen una distribución normal.\n",
        "            Cálculo:\n",
        "            IQR=Q3−Q1\n",
        "            Donde Q1 es el primer cuartil (25%) y Q3 es el tercer cuartil (75%).\n",
        "            Identificación de Outliers:\n",
        "                Valores por debajo de Q1−1.5×IQR\n",
        "                Valores por encima de Q3+1.5×IQR\n",
        "        Desviación Estándar: Para datos que siguen una distribución normal, se consideran outliers los valores que se encuentran a más de 2 o 3 desviaciones estándar de la media.\n",
        "            Cálculo:\n",
        "                Valores por debajo de μ−3σ\n",
        "                Valores por encima de μ+3σDonde μ es la media y σ es la desviación estándar.\n",
        "        Gráficos de Caja y Bigotes (Boxplots): Un método visual para identificar valores extremos usando IQR.\n",
        "\n",
        "    Métodos Basados en Modelos:\n",
        "        Isolation Forest: Un algoritmo de machine learning que identifica outliers al aislar puntos en los datos.\n",
        "        One-Class SVM: Un modelo supervisado que aprende a identificar la clase normal de datos y detecta valores fuera de esta clase.\n",
        "        Local Outlier Factor (LOF): Mide la densidad local de un punto de datos en comparación con sus vecinos, señalando outliers en áreas de baja densidad.\n",
        "\n",
        "    Métodos Basados en Distancia:\n",
        "        K-Nearest Neighbors (KNN): Calcula la distancia entre un punto y sus vecinos más cercanos. Si un punto está muy alejado de los demás, puede ser un outlier.\n",
        "\n",
        "Manejo de Valores Extremos\n",
        "\n",
        "    Eliminación de Outliers: Se eliminan los valores extremos del conjunto de datos. Es apropiado cuando los outliers son el resultado de errores en los datos o son irrelevantes para el análisis.\n",
        "        Ventaja: Simplifica el análisis y puede mejorar el rendimiento del modelo.\n",
        "        Desventaja: Puede llevar a la pérdida de información valiosa si los outliers son significativos.\n",
        "\n",
        "    Transformación de Datos:\n",
        "        Escalado Logarítmico o Raíz Cuadrada: Reduce el impacto de los valores extremos sin eliminarlos, especialmente en distribuciones sesgadas.\n",
        "        Winsorización: Se reemplazan los valores extremos con un límite superior o inferior especificado (e.g., percentiles 5 y 95).\n",
        "            Ejemplo: Si un valor es mayor que el percentil 95, se reemplaza por el valor del percentil 95.\n",
        "\n",
        "    Imputación de Valores:\n",
        "        Reemplazo por la Mediana o la Media: Se reemplazan los valores extremos con la mediana o la media de la característica. La mediana es menos sensible a outliers.\n",
        "\n",
        "    Modelos Robustos:\n"
      ],
      "metadata": {
        "id": "nS3sLONnkkgF"
      }
    }
  ]
}