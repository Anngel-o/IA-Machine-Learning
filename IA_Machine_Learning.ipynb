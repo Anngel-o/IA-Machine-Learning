{
  "nbformat": 4,
  "nbformat_minor": 0,
  "metadata": {
    "colab": {
      "provenance": [],
      "authorship_tag": "ABX9TyPToicz4d1CyDZwKYITeQve",
      "include_colab_link": true
    },
    "kernelspec": {
      "name": "python3",
      "display_name": "Python 3"
    },
    "language_info": {
      "name": "python"
    }
  },
  "cells": [
    {
      "cell_type": "markdown",
      "metadata": {
        "id": "view-in-github",
        "colab_type": "text"
      },
      "source": [
        "<a href=\"https://colab.research.google.com/github/Anngel-o/IA-Machine-Learning/blob/main/IA_Machine_Learning.ipynb\" target=\"_parent\"><img src=\"https://colab.research.google.com/assets/colab-badge.svg\" alt=\"Open In Colab\"/></a>"
      ]
    },
    {
      "cell_type": "markdown",
      "source": [
        "# **Definición y tipos de aprendizaje**\n",
        "\n",
        "El Machine Learning (ML) es un campo de la inteligencia artificial que se centra en el desarrollo de algoritmos y técnicas que permiten a las computadoras aprender y hacer predicciones o decisiones basadas en datos. En lugar de seguir instrucciones específicas, los sistemas de ML aprenden patrones y regularidades a partir de los datos. Hay tres tipos principales de aprendizaje:\n",
        "\n",
        "### **Aprendizaje Supervisado:**\n",
        "El algoritmo aprende de un conjunto de datos etiquetados y hace predicciones basadas en esa experiencia.\n",
        "\n",
        "### **Aprendizaje No Supervisado:**  \n",
        "El algoritmo encuentra estructuras ocultas en datos no etiquetados.\n",
        "\n",
        "### **Aprendizaje por Refuerzo:**\n",
        "El algoritmo aprende a tomar decisiones mediante la experimentación y la obtención de recompensas.\n"
      ],
      "metadata": {
        "id": "EK54YfwjKl5m"
      }
    },
    {
      "cell_type": "markdown",
      "source": [
        "\n",
        "\n",
        "---\n",
        "\n",
        "\n",
        "\n",
        "---\n",
        "\n",
        "\n",
        "\n",
        "---\n",
        "\n",
        "Vectores, matrices, arreglos y operaciones\n",
        "\n",
        "\n",
        "\n",
        "Transpuesta, Determinante y Traza\n",
        "\n",
        "    Transpuesta: La transpuesta de una matriz es una nueva matriz cuyos renglones son las columnas de la matriz original y viceversa.\n",
        "    Determinante: Es un valor único que puede calcularse a partir de una matriz cuadrada y proporciona información sobre las propiedades de la matriz, como si es invertible.\n",
        "    Traza: Es la suma de los elementos en la diagonal principal de una matriz cuadrada.\n",
        "\n",
        "Valores y Vectores Característicos\n",
        "\n",
        "    Valores Característicos: Son valores que indican cuánto se estira o se encoge un vector en una dirección particular cuando una matriz actúa sobre él.\n",
        "    Vectores Característicos: Son los vectores que se escalan por la matriz por un valor característico correspondiente.\n",
        "\n",
        "Producto Punto\n",
        "\n",
        "El producto punto es una operación algebraica que toma dos secuencias de números (generalmente vectores) y devuelve un solo número, calculado como la suma de los productos de los elementos correspondientes.\n",
        "Operaciones con Matrices\n",
        "\n",
        "    Adición y Sustracción: Se realizan elemento a elemento.\n",
        "    Multiplicación: Puede ser escalar o matriz por matriz. La multiplicación de matrices implica una combinación lineal de filas\n",
        "    y columnas.\n",
        "    Inversión: La matriz inversa de una matriz cuadrada 𝐴\n",
        "        A es la matriz\n",
        "        𝐴-1es la inversa de la matriz A\n",
        "        𝐴𝐴-1=𝐼\n",
        "        𝐼 es la matriz identidad.\n"
      ],
      "metadata": {
        "id": "LVuYygqQLWtj"
      }
    },
    {
      "cell_type": "code",
      "execution_count": 1,
      "metadata": {
        "id": "qxAlrE-k7Qn3",
        "outputId": "ccc47e05-2830-4aee-e538-251ca6069844",
        "colab": {
          "base_uri": "https://localhost:8080/"
        }
      },
      "outputs": [
        {
          "output_type": "stream",
          "name": "stdout",
          "text": [
            "Hola mundo\n"
          ]
        }
      ],
      "source": [
        "print(\"Hola mundo\")"
      ]
    }
  ]
}