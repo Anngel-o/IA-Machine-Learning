{
  "nbformat": 4,
  "nbformat_minor": 0,
  "metadata": {
    "colab": {
      "provenance": [],
      "authorship_tag": "ABX9TyOIgHRp0b40k5cWSpShcVng",
      "include_colab_link": true
    },
    "kernelspec": {
      "name": "python3",
      "display_name": "Python 3"
    },
    "language_info": {
      "name": "python"
    }
  },
  "cells": [
    {
      "cell_type": "markdown",
      "metadata": {
        "id": "view-in-github",
        "colab_type": "text"
      },
      "source": [
        "<a href=\"https://colab.research.google.com/github/Anngel-o/IA-Machine-Learning/blob/main/1_vectores_matrices_arreglos_operaciones.ipynb\" target=\"_parent\"><img src=\"https://colab.research.google.com/assets/colab-badge.svg\" alt=\"Open In Colab\"/></a>"
      ]
    },
    {
      "cell_type": "markdown",
      "source": [
        "# **Definición y tipos de aprendizaje**\n",
        "\n",
        "El Machine Learning (ML) es un campo de la inteligencia artificial que se centra en el desarrollo de algoritmos y técnicas que permiten a las computadoras aprender y hacer predicciones o decisiones basadas en datos. En lugar de seguir instrucciones específicas, los sistemas de ML aprenden patrones y regularidades a partir de los datos. Hay tres tipos principales de aprendizaje:\n",
        "\n",
        "### **Aprendizaje Supervisado:**\n",
        "El algoritmo aprende de un conjunto de datos etiquetados y hace predicciones basadas en esa experiencia.\n",
        "\n",
        "### **Aprendizaje No Supervisado:**  \n",
        "El algoritmo encuentra estructuras ocultas en datos no etiquetados.\n",
        "\n",
        "### **Aprendizaje por Refuerzo:**\n",
        "El algoritmo aprende a tomar decisiones mediante la experimentación y la obtención de recompensas.\n"
      ],
      "metadata": {
        "id": "EK54YfwjKl5m"
      }
    },
    {
      "cell_type": "markdown",
      "source": [
        "\n",
        "\n",
        "---\n",
        "\n",
        "\n",
        "\n",
        "---\n",
        "\n",
        "\n",
        "\n",
        "---\n",
        "\n",
        "# **Vectores, matrices, arreglos y operaciones**\n",
        "\n",
        "\n",
        "\n",
        "##Transpuesta, Determinante y Traza\n",
        "\n",
        "**Transpuesta:** La transpuesta de una matriz es una nueva matriz cuyos renglones son las columnas de la matriz original y viceversa.\n",
        "\n",
        "**Determinante:** Es un valor único que puede calcularse a partir de una matriz cuadrada y proporciona información sobre las propiedades de la matriz, como si es invertible.\n",
        "\n",
        "**Traza:** Es la suma de los elementos en la diagonal principal de una matriz cuadrada.\n",
        "\n",
        "##Valores y Vectores Característicos\n",
        "\n",
        "**Valores Característicos:** Son valores que indican cuánto se estira o se encoge un vector en una dirección particular cuando una matriz actúa sobre él.\n",
        "\n",
        "**Vectores Característicos:** Son los vectores que se escalan por la matriz por un valor característico correspondiente.\n",
        "\n",
        "##Producto Punto\n",
        "\n",
        "El producto punto es una operación algebraica que toma dos secuencias de números (generalmente vectores) y devuelve un solo número, calculado como la suma de los productos de los elementos correspondientes.\n",
        "Operaciones con Matrices\n",
        "\n",
        "**Adición y Sustracción:** Se realizan elemento a elemento.\n",
        "\n",
        "**Multiplicación:** Puede ser escalar o matriz por matriz. La multiplicación de matrices implica una combinación lineal de filas y columnas.\n",
        "\n",
        "**Inversión:** La matriz inversa de una matriz cuadrada 𝐴\n",
        "        A es la matriz\n",
        "        𝐴-1es la inversa de la matriz A\n",
        "        𝐴𝐴-1=𝐼\n",
        "        𝐼 es la matriz identidad.\n"
      ],
      "metadata": {
        "id": "LVuYygqQLWtj"
      }
    },
    {
      "cell_type": "code",
      "execution_count": null,
      "metadata": {
        "id": "qxAlrE-k7Qn3",
        "colab": {
          "base_uri": "https://localhost:8080/"
        },
        "outputId": "9fb75316-1fb5-4aee-e013-e1a9e9bfb0aa"
      },
      "outputs": [
        {
          "output_type": "stream",
          "name": "stdout",
          "text": [
            "Hola mundo\n"
          ]
        }
      ],
      "source": [
        "print(\"Hola mundo\")"
      ]
    },
    {
      "cell_type": "markdown",
      "source": [
        "**Jose Angel Ortiz Meraz 353195**\n",
        "\n",
        "#Operaciones Matriciales\n",
        "*Ejercicio 1: Creación de Vectores*\n"
      ],
      "metadata": {
        "id": "7pbICu9NMGF_"
      }
    },
    {
      "cell_type": "code",
      "source": [
        "# Crea un vector de 5 elementos utilizando una lista en Python.\n",
        "# Convierte este vector en un array de NumPy.\n",
        "# Imprime el vector resultante y su tipo.\n",
        "\n",
        "# Creación básica de vectores\n",
        "import numpy as np\n",
        "\n",
        "vector=[1,2,3,4,5]\n",
        "vector_numpy = np.array(vector)\n",
        "\n",
        "print(\"vector en python: \", vector)\n",
        "print(\"tipo: \", type(vector))\n",
        "\n",
        "print(\"vector con numpy: \", vector_numpy)\n",
        "print(\"tipo: \", type(vector_numpy))\n",
        "\n",
        "# Acceso y modificación de elementos\n",
        "# Accede al tercer elemento del vector y cámbialo por un nuevo valor.\n",
        "# Imprime el vector modificado.\n",
        "\n",
        "vector[2] = 6\n",
        "print(\"vector modificado: \", vector)"
      ],
      "metadata": {
        "colab": {
          "base_uri": "https://localhost:8080/"
        },
        "id": "7pfndyRK_QRj",
        "outputId": "5979d34a-1c68-4ebd-a09a-88c83e685438"
      },
      "execution_count": null,
      "outputs": [
        {
          "output_type": "stream",
          "name": "stdout",
          "text": [
            "vector en python:  [1, 2, 3, 4, 5]\n",
            "tipo:  <class 'list'>\n",
            "vector con numpy:  [1 2 3 4 5]\n",
            "tipo:  <class 'numpy.ndarray'>\n",
            "vector modificado:  [1, 2, 6, 4, 5]\n"
          ]
        }
      ]
    },
    {
      "cell_type": "code",
      "source": [
        "# Crea dos vectores de 4 elementos.\n",
        "# Calcula la suma y la resta de los dos vectores.\n",
        "# Calcula el producto punto (dot product) de los dos vectores.\n",
        "# Encuentra la magnitud (norma) de uno de los vectores.\n",
        "\n",
        "# Creación de vectores con Numpy\n",
        "vector1 = np.array([1,2,3,4])\n",
        "vector2 = np.array([1,1,1,1])\n",
        "print(\"vector con numpy: \", vector1)\n",
        "print(\"tipo: \", type(vector1))\n",
        "\n",
        "# Suma y resta de vectores\n",
        "suma = vector1 + vector2\n",
        "resta = vector1 - vector2;\n",
        "print(\"suma de vectores: \", suma)\n",
        "print(\"resta de vectores: \", resta)\n",
        "\n",
        "# Producto punto\n",
        "# En NumPy, la función .dot se utiliza para calcular el producto punto\n",
        "# (también conocido como producto escalar) entre dos arreglos.\n",
        "producto_punto = np.dot(vector1, vector2)\n",
        "print(\"producto punto de vectores: \", producto_punto)\n",
        "\n",
        "# Magnitud (norma) de un vector\n",
        "magnitud_vector1 = np.linalg.norm(vector1)\n",
        "#linag: linear algebra\n",
        "print(\"magnitud del vector 1: \", magnitud_vector1)"
      ],
      "metadata": {
        "colab": {
          "base_uri": "https://localhost:8080/"
        },
        "id": "HuLEW7qF_hMa",
        "outputId": "a68b9d41-1b2c-44bc-a4a8-6b8f01bc0c63"
      },
      "execution_count": null,
      "outputs": [
        {
          "output_type": "stream",
          "name": "stdout",
          "text": [
            "vector con numpy:  [1 2 3 4]\n",
            "tipo:  <class 'numpy.ndarray'>\n",
            "suma de vectores:  [2 3 4 5]\n",
            "resta de vectores:  [0 1 2 3]\n",
            "producto punto de vectores:  10\n",
            "magnitud del vector 1:  5.477225575051661\n"
          ]
        }
      ]
    },
    {
      "cell_type": "markdown",
      "source": [
        "*Ejercicio 2: Creación de Matrices*"
      ],
      "metadata": {
        "id": "ptoM1acqM7YW"
      }
    },
    {
      "cell_type": "code",
      "source": [
        "# Crea una matriz 3x3 utilizando listas anidadas en Python.\n",
        "#   Convierte esta matriz en un array de NumPy.\n",
        "#   Imprime la matriz resultante y su forma (dimensión).\n",
        "\n",
        "import numpy as np\n",
        "\n",
        "# Creación básica de matrices\n",
        "matriz = [[1,2,3], [4,5,6], [7,8,9]]\n",
        "print(\"matriz en python: \", matriz)\n",
        "\n",
        "# Creación de matrices con Numpy\n",
        "matriz_numpy = np.array(matriz)\n",
        "print(\"matriz con numpy: \", matriz)\n",
        "print(\"forma de la matriz: \", matriz_numpy.shape)"
      ],
      "metadata": {
        "colab": {
          "base_uri": "https://localhost:8080/"
        },
        "id": "JZoI55JfAVJ_",
        "outputId": "bab5c9f8-2c37-41d6-f504-7c87ef34c392"
      },
      "execution_count": null,
      "outputs": [
        {
          "output_type": "stream",
          "name": "stdout",
          "text": [
            "matriz en python:  [[1, 2, 3], [4, 5, 6], [7, 8, 9]]\n",
            "matriz con numpy:  [[1, 2, 3], [4, 5, 6], [7, 8, 9]]\n",
            "forma de la matriz:  (3, 3)\n"
          ]
        }
      ]
    },
    {
      "cell_type": "code",
      "source": [
        "# Acceso y modificación de elementos:\n",
        "#   Accede al elemento en la posición (2, 3) de una matriz 4x4.\n",
        "#   Modifica este elemento y cambia la última fila de la matriz por un nuevo vector de 4 elementos.\n",
        "\n",
        "matriz1 = np.array([[1,2,3,4], [5,6,7,8], [9,10,11,12], [13,14,15,16]])\n",
        "print(\"matriz 4x4: \\n\", matriz1)\n",
        "\n",
        "vector_nuevo = np.array([17,18,19,20])\n",
        "\n",
        "matriz1[2][3] = 120\n",
        "matriz1[3] = vector_nuevo\n",
        "print(\"matriz 4x4 modificada: \\n\", matriz1)\n"
      ],
      "metadata": {
        "colab": {
          "base_uri": "https://localhost:8080/"
        },
        "id": "LvsA1K2JGvVr",
        "outputId": "39feea98-a17e-4033-f889-7a23e0d69fa6"
      },
      "execution_count": null,
      "outputs": [
        {
          "output_type": "stream",
          "name": "stdout",
          "text": [
            "matriz 4x4: \n",
            " [[ 1  2  3  4]\n",
            " [ 5  6  7  8]\n",
            " [ 9 10 11 12]\n",
            " [13 14 15 16]]\n",
            "matriz 4x4 modificada: \n",
            " [[  1   2   3   4]\n",
            " [  5   6   7   8]\n",
            " [  9  10  11 120]\n",
            " [ 17  18  19  20]]\n"
          ]
        }
      ]
    },
    {
      "cell_type": "code",
      "source": [
        "# Operaciones con matrices:\n",
        "\n",
        "#     Crea dos matrices 3x3 y realiza las siguientes operaciones:\n",
        "#         Suma de matrices.\n",
        "#         Resta de matrices.\n",
        "#         Producto elemento a elemento (multiplicación Hadamard).\n",
        "#         Multiplicación de matrices (producto matricial).\n",
        "#     Calcula la transpuesta de una de las matrices.\n",
        "#     Encuentra el determinante de una matriz 3x3.\n",
        "\n",
        "matriz1 = np.array([[1,2,3], [4,5,6], [7,8,9]])\n",
        "matriz2 = np.array([[9,8,7], [6,5,4], [3,2,1]])\n",
        "\n",
        "# Suma de matrices\n",
        "matriz_suma = matriz1 + matriz2\n",
        "print(\"suma de matrices: \\n\", matriz_suma)\n",
        "\n",
        "# Resta de matrices\n",
        "matriz_resta = matriz1 - matriz2\n",
        "print(\"resta de matrices: \\n\", matriz_resta)\n",
        "\n",
        "# Producto elemento a elemento (multiplicación Hadamard)\n",
        "matriz_hadamard = matriz1 * matriz2\n",
        "print(\"multiplicación hadamard: \\n\", matriz_hadamard)\n",
        "\n",
        "# Multiplicación de matrices (producto matricial)\n",
        "# En NumPy, la función .dot se utiliza para calcular el producto punto\n",
        "# (también conocido como producto escalar) entre dos arreglos.\n",
        "matriz_hadamard = np.dot(matriz1, matriz2)\n",
        "print(\"producto matricial: \\n\", matriz_hadamard)\n",
        "\n",
        "# Transpuesta de una matriz\n",
        "matriz_transpuesta = matriz1.T\n",
        "print(\"transpuesta de la matriz 1: \\n\", matriz_transpuesta)\n",
        "\n",
        "# Determinante de una matriz\n",
        "determinante_matriz = np.linalg.det(matriz1)\n",
        "print(\"determinante de la matriz 1: \\n\", determinante_matriz)"
      ],
      "metadata": {
        "colab": {
          "base_uri": "https://localhost:8080/"
        },
        "id": "2wuZmrkRJrLT",
        "outputId": "1d7dd149-c93c-42f4-c212-53443d3d6eb5"
      },
      "execution_count": null,
      "outputs": [
        {
          "output_type": "stream",
          "name": "stdout",
          "text": [
            "suma de matrices: \n",
            " [[10 10 10]\n",
            " [10 10 10]\n",
            " [10 10 10]]\n",
            "resta de matrices: \n",
            " [[-8 -6 -4]\n",
            " [-2  0  2]\n",
            " [ 4  6  8]]\n",
            "multiplicación hadamard: \n",
            " [[ 9 16 21]\n",
            " [24 25 24]\n",
            " [21 16  9]]\n",
            "producto matricial: \n",
            " [[ 30  24  18]\n",
            " [ 84  69  54]\n",
            " [138 114  90]]\n",
            "transpuesta de la matriz 1: \n",
            " [[1 4 7]\n",
            " [2 5 8]\n",
            " [3 6 9]]\n",
            "determinante de la matriz 1: \n",
            " 0.0\n"
          ]
        }
      ]
    },
    {
      "cell_type": "markdown",
      "source": [
        "*Ejercicio 3: Aplicación de Operaciones con Matrices*"
      ],
      "metadata": {
        "id": "725r0QN_Ni36"
      }
    },
    {
      "cell_type": "code",
      "source": [
        "# Multiplicación de matrices:\n",
        "\n",
        "#     Crea una matriz 2x3 y otra matriz 3x2. Realiza la multiplicación matricial y muestra el resultado.\n",
        "#     Verifica si la multiplicación inversa da la matriz identidad.\n",
        "\n",
        "import numpy as np\n",
        "\n",
        "matriz1 = np.array([[1,2,3],[4,5,6]])\n",
        "matriz2 = np.array([[1,2],[4,5], [6,7]])\n",
        "\n",
        "matriz_multiplicacion = np.dot(matriz1, matriz2)\n",
        "\n",
        "print(\"producto matricial: \\n\", matriz_multiplicacion)\n",
        "\n",
        "inversa = np.linalg.inv(matriz_multiplicacion)\n",
        "print(\"inversa de la matriz resultante: \\n\", inversa)\n",
        "\n",
        "identidad = np.dot(matriz_multiplicacion, inversa)\n",
        "print(\"matriz de identidad: \\n\", identidad)"
      ],
      "metadata": {
        "colab": {
          "base_uri": "https://localhost:8080/"
        },
        "id": "HdjiHSDVUiJU",
        "outputId": "22684dfa-30f3-46f4-c5b2-f2c127f8b363"
      },
      "execution_count": 14,
      "outputs": [
        {
          "output_type": "stream",
          "name": "stdout",
          "text": [
            "producto matricial: \n",
            " [[27 33]\n",
            " [60 75]]\n",
            "inversa de la matriz resultante: \n",
            " [[ 1.66666667 -0.73333333]\n",
            " [-1.33333333  0.6       ]]\n",
            "matriz de identidad: \n",
            " [[1.00000000e+00 2.10942375e-15]\n",
            " [5.55111512e-15 1.00000000e+00]]\n"
          ]
        }
      ]
    },
    {
      "cell_type": "code",
      "source": [
        "# Sistemas de ecuaciones lineales:\n",
        "\n",
        "#     Utiliza la función np.linalg.solve() para resolver el sistema:\n",
        "\n",
        "# {2x+3y=5\n",
        "# {4x+5y=6\n",
        "from scipy.linalg import lu\n",
        "\n",
        "# A⋅x=b\n",
        "\n",
        "# Donde:\n",
        "\n",
        "#     A es la matriz de coeficientes,\n",
        "\n",
        "#     x es el vector de incógnitas (x e y),\n",
        "\n",
        "#     b es el vector de términos independientes.\n",
        "\n",
        "A = np.array([[2,3],[4, 5]])\n",
        "b = np.array([5, 6])\n",
        "x = np.linalg.solve(A, b)\n",
        "\n",
        "print(\"solución del sistema de ecuaciones: \", x)"
      ],
      "metadata": {
        "colab": {
          "base_uri": "https://localhost:8080/"
        },
        "id": "Rna4idEBXHL1",
        "outputId": "44dec688-07cb-40d7-ef81-c2210c8b2404"
      },
      "execution_count": 10,
      "outputs": [
        {
          "output_type": "stream",
          "name": "stdout",
          "text": [
            "solución del sistema de ecuaciones:  [-3.5  4. ]\n"
          ]
        }
      ]
    },
    {
      "cell_type": "code",
      "source": [
        "# Descomposición de matrices:\n",
        "\n",
        "#     Realiza la descomposición de una matriz cuadrada en una matriz triangular superior e inferior (LU descomposición).\n",
        "#     Utiliza la función np.linalg.inv() para encontrar la inversa de una matriz 3x3.\n",
        "import numpy as np\n",
        "from scipy.linalg import lu\n",
        "\n",
        "matriz_cuadrada = np.array([[6,2,3],[4,5,6],[7,8,9]])\n",
        "# La descomposición LU descompone una matriz A en el producto de una matriz triangular inferior L\n",
        "#y una matriz triangular superior U, es decir:\n",
        "\n",
        "# A=L⋅U\n",
        "\n",
        "# En Python, podemos usar la función scipy.linalg.lu para realizar esta descomposición.\n",
        "\n",
        "P, L, U = lu(matriz_cuadrada)\n",
        "\n",
        "print(\"Matriz P (permute):\\n\", P)\n",
        "print(\"Matriz L (lower triangular):\\n\", L)\n",
        "print(\"Matriz U (upper triangular):\\n\", U)\n",
        "\n",
        "try:\n",
        "  inversa_matriz = np.linalg.inv(matriz_cuadrada)\n",
        "  print(\"inversa de la matriz: \\n\", inversa_matriz)\n",
        "except np.linalg.LinAlgError:\n",
        "  print(\"la matriz no es invertible (su determinante es cero).\")\n",
        ""
      ],
      "metadata": {
        "colab": {
          "base_uri": "https://localhost:8080/"
        },
        "id": "HTHoSk-TdNQz",
        "outputId": "49fd9ff8-e34f-40d9-cbf5-e261e423bb1a"
      },
      "execution_count": 29,
      "outputs": [
        {
          "output_type": "stream",
          "name": "stdout",
          "text": [
            "Matriz P (permute):\n",
            " [[0. 1. 0.]\n",
            " [0. 0. 1.]\n",
            " [1. 0. 0.]]\n",
            "Matriz L (lower triangular):\n",
            " [[ 1.          0.          0.        ]\n",
            " [ 0.85714286  1.          0.        ]\n",
            " [ 0.57142857 -0.08823529  1.        ]]\n",
            "Matriz U (upper triangular):\n",
            " [[ 7.          8.          9.        ]\n",
            " [ 0.         -4.85714286 -4.71428571]\n",
            " [ 0.          0.          0.44117647]]\n",
            "inversa de la matriz: \n",
            " [[ 0.2        -0.4         0.2       ]\n",
            " [-0.4        -2.2         1.6       ]\n",
            " [ 0.2         2.26666667 -1.46666667]]\n"
          ]
        }
      ]
    },
    {
      "cell_type": "code",
      "source": [
        "# Autovalores y autovectores:\n",
        "\n",
        "#     Calcula los autovalores y autovectores de una matriz 3x3.\n",
        "#     Verifica que A × v = λ × v, donde A es la matriz, v es el autovector y λ es el autovalor correspondiente.\n",
        "\n",
        "matriz = np.array([[1,2,3],[4,5,6],[7,8,9]])\n",
        "\n",
        "autovalores, autovectores = np.linalg.eig(matriz)\n",
        "print(\"autovalores de la matriz: \\n\", autovalores)\n",
        "print(\"autovectores de la matriz: \\n\", autovectores)\n",
        "\n",
        "for i in range(len(autovalores)):\n",
        "  lambda_i = autovalores[i]\n",
        "  v_i = autovectores[:, i] #tomar la columna i como autovector\n",
        "\n",
        "  #calcular A × v = λ × v\n",
        "  Av = np.dot(matriz, v_i)\n",
        "  lambda_v = lambda_i * v_i\n",
        "\n",
        "  print(\"A * v = \", Av)\n",
        "  print(\"λ * v = \", lambda_v)\n",
        "  print(f\"verificación para autovalor {i+1}: \")\n",
        "  print(\"A · v:\", Av)\n",
        "  print(\"λ · v:\", lambda_v)\n",
        "  print(\"¿Son iguales?\", np.allclose(Av, lambda_v))\n",
        "  # La función np.allclose(Av, lambda_v) se usa para verificar\n",
        "  # si los dos arreglos son aproximadamente iguales dentro de un margen de tolerancia.\n"
      ],
      "metadata": {
        "colab": {
          "base_uri": "https://localhost:8080/"
        },
        "id": "_ccOa3Rhgw0I",
        "outputId": "914430ed-7de7-4d2c-9816-86ad290dea42"
      },
      "execution_count": 40,
      "outputs": [
        {
          "output_type": "stream",
          "name": "stdout",
          "text": [
            "autovalores de la matriz: \n",
            " [ 1.61168440e+01 -1.11684397e+00 -1.30367773e-15]\n",
            "autovectores de la matriz: \n",
            " [[-0.23197069 -0.78583024  0.40824829]\n",
            " [-0.52532209 -0.08675134 -0.81649658]\n",
            " [-0.8186735   0.61232756  0.40824829]]\n",
            "A * v =  [ -3.73863537  -8.46653421 -13.19443305]\n",
            "λ * v =  [ -3.73863537  -8.46653421 -13.19443305]\n",
            "verificación para autovalor 1: \n",
            "A · v: [ -3.73863537  -8.46653421 -13.19443305]\n",
            "λ · v: [ -3.73863537  -8.46653421 -13.19443305]\n",
            "¿Son iguales? True\n",
            "A * v =  [ 0.87764976  0.09688771 -0.68387434]\n",
            "λ * v =  [ 0.87764976  0.09688771 -0.68387434]\n",
            "verificación para autovalor 2: \n",
            "A · v: [ 0.87764976  0.09688771 -0.68387434]\n",
            "λ · v: [ 0.87764976  0.09688771 -0.68387434]\n",
            "¿Son iguales? True\n",
            "A * v =  [-9.43689571e-16 -9.99200722e-16 -1.66533454e-16]\n",
            "λ * v =  [-5.32224203e-16  1.06444841e-15 -5.32224203e-16]\n",
            "verificación para autovalor 3: \n",
            "A · v: [-9.43689571e-16 -9.99200722e-16 -1.66533454e-16]\n",
            "λ · v: [-5.32224203e-16  1.06444841e-15 -5.32224203e-16]\n",
            "¿Son iguales? True\n"
          ]
        }
      ]
    }
  ]
}