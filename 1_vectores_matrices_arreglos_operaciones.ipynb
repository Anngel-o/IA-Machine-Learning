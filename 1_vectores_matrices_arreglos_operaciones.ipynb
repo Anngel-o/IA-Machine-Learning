{
  "nbformat": 4,
  "nbformat_minor": 0,
  "metadata": {
    "colab": {
      "provenance": [],
      "authorship_tag": "ABX9TyMnlcOuxZ9Cts+T4T2V/ICA",
      "include_colab_link": true
    },
    "kernelspec": {
      "name": "python3",
      "display_name": "Python 3"
    },
    "language_info": {
      "name": "python"
    }
  },
  "cells": [
    {
      "cell_type": "markdown",
      "metadata": {
        "id": "view-in-github",
        "colab_type": "text"
      },
      "source": [
        "<a href=\"https://colab.research.google.com/github/Anngel-o/IA-Machine-Learning/blob/main/1_vectores_matrices_arreglos_operaciones.ipynb\" target=\"_parent\"><img src=\"https://colab.research.google.com/assets/colab-badge.svg\" alt=\"Open In Colab\"/></a>"
      ]
    },
    {
      "cell_type": "markdown",
      "source": [
        "# **Definición y tipos de aprendizaje**\n",
        "\n",
        "El Machine Learning (ML) es un campo de la inteligencia artificial que se centra en el desarrollo de algoritmos y técnicas que permiten a las computadoras aprender y hacer predicciones o decisiones basadas en datos. En lugar de seguir instrucciones específicas, los sistemas de ML aprenden patrones y regularidades a partir de los datos. Hay tres tipos principales de aprendizaje:\n",
        "\n",
        "### **Aprendizaje Supervisado:**\n",
        "El algoritmo aprende de un conjunto de datos etiquetados y hace predicciones basadas en esa experiencia.\n",
        "\n",
        "### **Aprendizaje No Supervisado:**  \n",
        "El algoritmo encuentra estructuras ocultas en datos no etiquetados.\n",
        "\n",
        "### **Aprendizaje por Refuerzo:**\n",
        "El algoritmo aprende a tomar decisiones mediante la experimentación y la obtención de recompensas.\n"
      ],
      "metadata": {
        "id": "EK54YfwjKl5m"
      }
    },
    {
      "cell_type": "markdown",
      "source": [
        "\n",
        "\n",
        "---\n",
        "\n",
        "\n",
        "\n",
        "---\n",
        "\n",
        "\n",
        "\n",
        "---\n",
        "\n",
        "# **Vectores, matrices, arreglos y operaciones**\n",
        "\n",
        "\n",
        "\n",
        "##Transpuesta, Determinante y Traza\n",
        "\n",
        "**Transpuesta:** La transpuesta de una matriz es una nueva matriz cuyos renglones son las columnas de la matriz original y viceversa.\n",
        "\n",
        "**Determinante:** Es un valor único que puede calcularse a partir de una matriz cuadrada y proporciona información sobre las propiedades de la matriz, como si es invertible.\n",
        "\n",
        "Traza: Es la suma de los elementos en la diagonal principal de una matriz cuadrada.\n",
        "\n",
        "##Valores y Vectores Característicos\n",
        "\n",
        "**Valores Característicos:** Son valores que indican cuánto se estira o se encoge un vector en una dirección particular cuando una matriz actúa sobre él.\n",
        "\n",
        "**Vectores Característicos:** Son los vectores que se escalan por la matriz por un valor característico correspondiente.\n",
        "\n",
        "##Producto Punto\n",
        "\n",
        "El producto punto es una operación algebraica que toma dos secuencias de números (generalmente vectores) y devuelve un solo número, calculado como la suma de los productos de los elementos correspondientes.\n",
        "Operaciones con Matrices\n",
        "\n",
        "**Adición y Sustracción:** Se realizan elemento a elemento.\n",
        "\n",
        "**Multiplicación:** Puede ser escalar o matriz por matriz. La multiplicación de matrices implica una combinación lineal de filas y columnas.\n",
        "\n",
        "**Inversión:** La matriz inversa de una matriz cuadrada 𝐴\n",
        "        A es la matriz\n",
        "        𝐴-1es la inversa de la matriz A\n",
        "        𝐴𝐴-1=𝐼\n",
        "        𝐼 es la matriz identidad.\n"
      ],
      "metadata": {
        "id": "LVuYygqQLWtj"
      }
    },
    {
      "cell_type": "code",
      "execution_count": null,
      "metadata": {
        "id": "qxAlrE-k7Qn3",
        "colab": {
          "base_uri": "https://localhost:8080/"
        },
        "outputId": "9fb75316-1fb5-4aee-e013-e1a9e9bfb0aa"
      },
      "outputs": [
        {
          "output_type": "stream",
          "name": "stdout",
          "text": [
            "Hola mundo\n"
          ]
        }
      ],
      "source": [
        "print(\"Hola mundo\")"
      ]
    },
    {
      "cell_type": "markdown",
      "source": [
        "**Jose Angel Ortiz Meraz 353195**\n",
        "\n",
        "#Operaciones Matriciales\n",
        "*Ejercicio 1: Creación de Vectores*\n"
      ],
      "metadata": {
        "id": "7pbICu9NMGF_"
      }
    },
    {
      "cell_type": "code",
      "source": [
        "# Creación básica de vectores\n",
        "import numpy as np\n",
        "vector=[1,2,3,4,5]\n",
        "print(\"vector en python: \", vector)\n",
        "print(\"tipo: \", type(vector))\n",
        "\n",
        "# Acceso y modificación de elementos\n",
        "vector[4] = 6\n",
        "print(\"vector modificado: \", vector)"
      ],
      "metadata": {
        "colab": {
          "base_uri": "https://localhost:8080/"
        },
        "id": "7pfndyRK_QRj",
        "outputId": "b906bd3a-3e96-4e67-f7c0-e3cd56831469"
      },
      "execution_count": 4,
      "outputs": [
        {
          "output_type": "stream",
          "name": "stdout",
          "text": [
            "vector en python:  [1, 2, 3, 4, 5]\n",
            "tipo:  <class 'list'>\n",
            "vector modificado:  [1, 2, 3, 4, 6]\n"
          ]
        }
      ]
    },
    {
      "cell_type": "code",
      "source": [
        "vector1 = np.array([1,2,3,4,5])\n",
        "vector2 = np.array([1,1,1,1,1])\n",
        "print(\"vector con numpy: \", vector1)\n",
        "print(\"tipo: \", type(vector1))\n",
        "\n",
        "# Suma y resta de vectores\n",
        "suma = vector1 + vector2\n",
        "resta = vector1 - vector2;\n",
        "print(\"suma de vectores: \", suma)\n",
        "print(\"resta de vectores: \", resta)\n",
        "\n",
        "# Producto punto\n",
        "producto_punto = np.dot(vector1, vector2)\n",
        "print(\"producto punto de vectores: \", producto_punto)\n",
        "\n",
        "# Magnitud (norma) de un vector\n",
        "magnitud_vector1 = np.linalg.norm(vector1)\n",
        "#linag: linear algebra\n",
        "print(\"magnitud del vector 1: \", magnitud_vector1)"
      ],
      "metadata": {
        "id": "HuLEW7qF_hMa",
        "outputId": "b63c05ed-14d1-43dc-d507-176c5dd7aa6e",
        "colab": {
          "base_uri": "https://localhost:8080/"
        }
      },
      "execution_count": 6,
      "outputs": [
        {
          "output_type": "stream",
          "name": "stdout",
          "text": [
            "vector con numpy:  [1 2 3 4 5]\n",
            "tipo:  <class 'numpy.ndarray'>\n",
            "suma de vectores:  [2 3 4 5 6]\n",
            "resta de vectores:  [0 1 2 3 4]\n",
            "producto punto de vectores:  15\n",
            "magnitud del vector 1:  7.416198487095663\n"
          ]
        }
      ]
    },
    {
      "cell_type": "markdown",
      "source": [
        "*Ejercicio 2 Ejercicio 2: Creación de Matrices*"
      ],
      "metadata": {
        "id": "ptoM1acqM7YW"
      }
    },
    {
      "cell_type": "code",
      "source": [
        "import numpy as np\n",
        "\n",
        "# Creación básica de matrices\n",
        "matriz_lista = [[1, 2, 3], [4, 5, 6], [7, 8, 9]]\n",
        "matriz_numpy = np.array(matriz_lista)\n",
        "print(\"Matriz numpy:\\n\", matriz_numpy)\n",
        "print(\"Forma de la matriz:\", matriz_numpy.shape)\n",
        "\n",
        "# Acceso y modificación de elementos en una matriz 4x4\n",
        "matriz_4x4 = np.array([[1, 2, 3, 4], [5, 6, 7, 8], [9, 10, 11, 12], [13, 14, 15, 16]])\n",
        "print(\"Elemento en posición (2,3):\", matriz_4x4[1, 2])\n",
        "matriz_4x4[3] = [17, 18, 19, 20]\n",
        "print(\"Matriz modificada:\\n\", matriz_4x4)\n",
        "\n",
        "# Operaciones con matrices\n",
        "matriz1 = np.array([[1, 2, 3], [4, 5, 6], [7, 8, 9]])\n",
        "matriz2 = np.array([[9, 8, 7], [6, 5, 4], [3, 2, 1]])\n",
        "\n",
        "# Suma, resta, multiplicación Hadamard y producto matricial\n",
        "suma_matrices = matriz1 + matriz2\n",
        "resta_matrices = matriz1 - matriz2\n",
        "hadamard = matriz1 * matriz2\n",
        "producto_matrices = np.dot(matriz1, matriz2)\n",
        "\n",
        "print(\"Suma de matrices:\\n\", suma_matrices)\n",
        "print(\"Resta de matrices:\\n\", resta_matrices)\n",
        "print(\"Multiplicación Hadamard:\\n\", hadamard)\n",
        "print(\"Producto matricial:\\n\", producto_matrices)\n",
        "\n",
        "# Transpuesta y determinante\n",
        "transpuesta_matriz1 = matriz1.T\n",
        "determinante_matriz1 = np.linalg.det(matriz1)\n",
        "\n",
        "print(\"Transpuesta de matriz1:\\n\", transpuesta_matriz1)\n",
        "print(\"Determinante de matriz1:\", determinante_matriz1)"
      ],
      "metadata": {
        "colab": {
          "base_uri": "https://localhost:8080/"
        },
        "id": "eoUYYJ7-M-OG",
        "outputId": "7a47de2b-f3d0-4063-c0bc-9120fb8a9b1c"
      },
      "execution_count": null,
      "outputs": [
        {
          "output_type": "stream",
          "name": "stdout",
          "text": [
            "Matriz numpy:\n",
            " [[1 2 3]\n",
            " [4 5 6]\n",
            " [7 8 9]]\n",
            "Forma de la matriz: (3, 3)\n",
            "Elemento en posición (2,3): 7\n",
            "Matriz modificada:\n",
            " [[ 1  2  3  4]\n",
            " [ 5  6  7  8]\n",
            " [ 9 10 11 12]\n",
            " [17 18 19 20]]\n",
            "Suma de matrices:\n",
            " [[10 10 10]\n",
            " [10 10 10]\n",
            " [10 10 10]]\n",
            "Resta de matrices:\n",
            " [[-8 -6 -4]\n",
            " [-2  0  2]\n",
            " [ 4  6  8]]\n",
            "Multiplicación Hadamard:\n",
            " [[ 9 16 21]\n",
            " [24 25 24]\n",
            " [21 16  9]]\n",
            "Producto matricial:\n",
            " [[ 30  24  18]\n",
            " [ 84  69  54]\n",
            " [138 114  90]]\n",
            "Transpuesta de matriz1:\n",
            " [[1 4 7]\n",
            " [2 5 8]\n",
            " [3 6 9]]\n",
            "Determinante de matriz1: 0.0\n"
          ]
        }
      ]
    },
    {
      "cell_type": "markdown",
      "source": [
        "*Ejercicio 2: Creación de Matrices*"
      ],
      "metadata": {
        "id": "725r0QN_Ni36"
      }
    },
    {
      "cell_type": "code",
      "source": [
        "import numpy as np\n",
        "from scipy.linalg import lu\n",
        "\n",
        "# Multiplicación de matrices\n",
        "matriz_2x3 = np.array([[1, 2, 3], [4, 5, 6]])\n",
        "matriz_3x2 = np.array([[7, 8], [9, 10], [11, 12]])\n",
        "\n",
        "multiplicacion = np.dot(matriz_2x3, matriz_3x2)\n",
        "print(\"Multiplicación de matrices:\\n\", multiplicacion)\n",
        "\n",
        "# Sistema de ecuaciones lineales\n",
        "A = np.array([[2, 3], [4, 5]])\n",
        "b = np.array([5, 6])\n",
        "solucion = np.linalg.solve(A, b)\n",
        "print(\"Solución del sistema de ecuaciones:\", solucion)\n",
        "\n",
        "# Descomposición LU y cálculo de inversa\n",
        "matriz_cuadrada = np.array([[1, 2, 3], [0, 1, 4], [5, 6, 0]])\n",
        "\n",
        "# Descomposición LU\n",
        "P, L, U = lu(matriz_cuadrada)\n",
        "\n",
        "print(\"Matriz P (permute):\\n\", P)\n",
        "print(\"Matriz L (lower triangular):\\n\", L)\n",
        "print(\"Matriz U (upper triangular):\\n\", U)\n",
        "\n",
        "# Cálculo de la inversa\n",
        "inversa_matriz = np.linalg.inv(matriz_cuadrada)\n",
        "print(\"Matriz inversa:\\n\", inversa_matriz)\n"
      ],
      "metadata": {
        "colab": {
          "base_uri": "https://localhost:8080/"
        },
        "id": "CzoxfhEINm5Z",
        "outputId": "8a0da55c-874a-428b-ad6a-df32228c3344"
      },
      "execution_count": null,
      "outputs": [
        {
          "output_type": "stream",
          "name": "stdout",
          "text": [
            "Multiplicación de matrices:\n",
            " [[ 58  64]\n",
            " [139 154]]\n",
            "Solución del sistema de ecuaciones: [-3.5  4. ]\n",
            "Matriz P (permute):\n",
            " [[0. 0. 1.]\n",
            " [0. 1. 0.]\n",
            " [1. 0. 0.]]\n",
            "Matriz L (lower triangular):\n",
            " [[1.  0.  0. ]\n",
            " [0.  1.  0. ]\n",
            " [0.2 0.8 1. ]]\n",
            "Matriz U (upper triangular):\n",
            " [[ 5.   6.   0. ]\n",
            " [ 0.   1.   4. ]\n",
            " [ 0.   0.  -0.2]]\n",
            "Matriz inversa:\n",
            " [[-24.  18.   5.]\n",
            " [ 20. -15.  -4.]\n",
            " [ -5.   4.   1.]]\n"
          ]
        }
      ]
    }
  ]
}